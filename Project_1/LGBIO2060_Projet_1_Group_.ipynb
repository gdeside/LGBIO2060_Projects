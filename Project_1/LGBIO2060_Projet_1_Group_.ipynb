{
 "cells": [
  {
   "cell_type": "markdown",
   "metadata": {
    "id": "re9L2wo2oqQd"
   },
   "source": [
    "**Students:**\n",
    "\n",
    "\n",
    "*   Conet Brieuc (1800)\n",
    "*   Deside Guillaume (39731800)\n",
    "\n"
   ]
  },
  {
   "cell_type": "markdown",
   "metadata": {
    "id": "6sKp_06mJci2"
   },
   "source": [
    "#Projet 1 : Bayesian integration in force estimation\n",
    "Authors : Simon Vandergooten and Clémence Vandamme.\n",
    "\n",
    "In this first project you will have the opportunity to practice what you learned during the exercice sessions. More precisely, you will see how the Bayesian integration can be used in the specific case of force estimation. \n",
    "\n",
    "\n",
    "##Guidelines : \n",
    "\n",
    "1) Read the paper \"*Bayesian integration in force estimation*\" by K. Körding (2004), available on Moodle in the section \"Project\".\n",
    "\n",
    "2) Download the datasets **F_true**, **F_pert** and **delta_y** available on Moodle and store them in the folder of your choice.\n",
    "\n",
    "3) Run the provided cells (Section 1) to import the datasets in Colab.\n",
    "\n",
    "4) Perform the same data analysis as the paper to reproduce **Figures 1D & 2(B $\\rightarrow$ F)** and discuss your results.\n",
    "\n",
    "5) Answer the following questions to check your understanding of the article.\n",
    "\n",
    "* Why is prior knowledge important in general ? How does it help (or not) reducing the errors in this task ? \n",
    "\n",
    "* What is the research question and why is the task suitable to answer it ? \n",
    "\n",
    "* Explain with your own words how each graphs of figure 2A are obtained. In particular, explain why we expect a linear relationship between dF and F_true if we use full bayesian strategies ? What does the slope represent ? \n",
    "\n",
    "\n",
    "For this project, no report is needed. You will simply drop on moodle one notebook per group. This notebook will contain your entire code (we should be able to generate your figures by running the notebook), the figures, some comments on your methods and the answer of the open questions. The due date is the **28th of October at 23:59**. \n",
    "\n",
    "We will then review together your notebook during a small discussion (10 minutes). You will have the opportunity to explain us in more details what you have done. During this talk, we will also ask you some basic questions to check your understanding of the project. This is not a formal presentation, but it is mandatory.  \n",
    "\n"
   ]
  },
  {
   "cell_type": "markdown",
   "metadata": {
    "id": "J9NhOLHDwtIY"
   },
   "source": [
    "##Some indications\n",
    "\n",
    "First, recall that the Bayes theorem states: \n",
    "\n",
    "$$Posterior \\propto prior * likelihood$$\n",
    "\n",
    "###About the data: \n",
    "\n",
    "After the article reading, take a moment to explore the data structure. The data you have access to are stored in a dictionary `Dict`. In this dictionary, you can then access all subjects (the first 6 subjects belong to group 1, the 5 last belong to group 2). Each subjects entry contains 3 numpy arrays: `F_true`, `F_pert` and `delta_y`. Those arrays are of size (3, 1400). Each line correspond to a day and is composed of the 7 blocks of 200 trials placed consecutively. \n",
    "\n",
    "Example: You can access the values of the perturbation force for the second subject with `Dict['Sujet 2']['F_pert']`. This will return an numpy array. \n",
    "\n",
    "*Click [here](https://docs.python.org/3/tutorial/datastructures.html) for more context about dictionary (See section 5.5)*.\n",
    "\n",
    "* `F_true` is the true force the subjects experienced during the first pulse of a trial. As in the paper, it is drawn from two gaussian distributions that differ in their variance. Out of the 11 subjects, the first six experienced the wide distribution for the first two days then the narrow distribution during day 3. It is the opposite for the last five subjects.\n",
    "\n",
    "* `F_pert` is a small perturbation added to the second pulse. It is also gaussian distributed. \n",
    "\n",
    "* `delta_y` is the positional error subjects made with respect to the target. \n",
    "\n",
    "* You can use $c = 0.68 [\\frac{N}{cm}]$\n",
    "\n",
    "Note that these data are not the experimental results of the article. Those are artificial data simulated by us, as we do not have access to the original dataset. Therefore, you will not recover the exact same graphs as the article, but you should obtain similar ones. \n",
    "\n"
   ]
  },
  {
   "cell_type": "markdown",
   "metadata": {
    "id": "YBJQZ06smKbI"
   },
   "source": [
    "#Section 1: Import datasets \n"
   ]
  },
  {
   "cell_type": "code",
   "execution_count": 15,
   "metadata": {
    "executionInfo": {
     "elapsed": 674,
     "status": "ok",
     "timestamp": 1634646796399,
     "user": {
      "displayName": "Sharcaux Deside",
      "photoUrl": "https://lh3.googleusercontent.com/a-/AOh14Gj1bq5MeauwYy7CLOCU65muESJmYnjPgTFEins-XA=s64",
      "userId": "13175516189358306013"
     },
     "user_tz": -120
    },
    "id": "77MYO80PNPpd"
   },
   "outputs": [],
   "source": [
    "#import libraries\n",
    "import numpy as np\n",
    "import pandas as pd \n",
    "import io\n",
    "import matplotlib.pyplot as plt"
   ]
  },
  {
   "cell_type": "code",
   "execution_count": 16,
   "metadata": {
    "executionInfo": {
     "elapsed": 990,
     "status": "ok",
     "timestamp": 1634646849116,
     "user": {
      "displayName": "Sharcaux Deside",
      "photoUrl": "https://lh3.googleusercontent.com/a-/AOh14Gj1bq5MeauwYy7CLOCU65muESJmYnjPgTFEins-XA=s64",
      "userId": "13175516189358306013"
     },
     "user_tz": -120
    },
    "id": "fRAzGeJyjNDF"
   },
   "outputs": [],
   "source": [
    "# @title Run to access and store the datasets\n",
    "F_true = pd.read_csv(\"files/F_true.csv\").to_numpy()[:,1:]\n",
    "F_pert = pd.read_csv(\"files/F_pert.csv\").to_numpy()[:,1:]\n",
    "delta_y = pd.read_csv(\"files/delta_y.csv\").to_numpy()[:,1:]\n",
    "\n",
    "n_subjects = 11\n",
    "n_days = 3\n",
    "Dict = {}\n",
    "\n",
    "for subject in range(n_subjects):\n",
    "  Dict['Sujet ' + str(subject + 1)] = {'F_true':F_true[subject * n_days:(subject + 1) * n_days,:], 'F_pert':F_pert[subject * n_days:(subject + 1) * n_days,:], 'delta_y':delta_y[subject * n_days:(subject + 1) * n_days,:]}\n",
    "\n"
   ]
  },
  {
   "cell_type": "markdown",
   "metadata": {
    "id": "c6VCp166nJFc"
   },
   "source": [
    "You have now access to the dictionary **Dict**.\n",
    "\n",
    "\n"
   ]
  },
  {
   "cell_type": "markdown",
   "metadata": {
    "id": "TdKgD7bCUGmm"
   },
   "source": [
    "# Section 2: Your results"
   ]
  },
  {
   "cell_type": "markdown",
   "metadata": {
    "id": "ZhW1DX0aqSjj"
   },
   "source": [
    "**Figure 1.D**"
   ]
  },
  {
   "cell_type": "code",
   "execution_count": 18,
   "metadata": {
    "executionInfo": {
     "elapsed": 206,
     "status": "ok",
     "timestamp": 1634648262119,
     "user": {
      "displayName": "Sharcaux Deside",
      "photoUrl": "https://lh3.googleusercontent.com/a-/AOh14Gj1bq5MeauwYy7CLOCU65muESJmYnjPgTFEins-XA=s64",
      "userId": "13175516189358306013"
     },
     "user_tz": -120
    },
    "id": "e6VlHw34oLYk"
   },
   "outputs": [],
   "source": [
    "c_inverse = 100/68 #[cm/N]\n",
    "C = 68/100 #[N/cm]"
   ]
  },
  {
   "cell_type": "code",
   "execution_count": 19,
   "metadata": {
    "colab": {
     "base_uri": "https://localhost:8080/"
    },
    "executionInfo": {
     "elapsed": 21,
     "status": "ok",
     "timestamp": 1634648262756,
     "user": {
      "displayName": "Sharcaux Deside",
      "photoUrl": "https://lh3.googleusercontent.com/a-/AOh14Gj1bq5MeauwYy7CLOCU65muESJmYnjPgTFEins-XA=s64",
      "userId": "13175516189358306013"
     },
     "user_tz": -120
    },
    "id": "cA7Wz2DIUDqe",
    "outputId": "a4b9858b-a594-4633-da67-adbb3080fcd1"
   },
   "outputs": [
    {
     "name": "stdout",
     "output_type": "stream",
     "text": [
      "14\n",
      "[-1.29966788 -0.57765799  0.420342   -0.49338035 -0.3043042  -0.10944949\n",
      " -0.10755716  0.19331727  0.30931376  0.40712578  0.66958265  0.71323356\n",
      "  0.9831904   0.78623387]\n"
     ]
    }
   ],
   "source": [
    "## Data treatment\n",
    "### Sujet 1 - Day 0\n",
    "x_f_pet = np.arange(-0.70,0.70,0.1)\n",
    "print(len(x_f_pet))\n",
    "y_mean_deltay = np.zeros(14)\n",
    "y_std_deltay = np.zeros(14)\n",
    "sujet_data_F = Dict['Sujet 1']['F_pert'][0]\n",
    "sujet_data_Y = Dict['Sujet 1']['delta_y'][0]\n",
    "for k in range(len(x_f_pet)):\n",
    "  idx=np.where((sujet_data_F>= (x_f_pet[k]-0.05)) & ((x_f_pet[k]+0.05)>=sujet_data_F))\n",
    "  y_std_deltay[k] =np.nanstd(sujet_data_Y[idx])/np.sqrt(len(sujet_data_Y[idx]))\n",
    "  y_mean_deltay[k] =np.nanmean(sujet_data_Y[idx])\n",
    "print(y_mean_deltay)"
   ]
  },
  {
   "cell_type": "code",
   "execution_count": 20,
   "metadata": {
    "executionInfo": {
     "elapsed": 3,
     "status": "ok",
     "timestamp": 1634648263660,
     "user": {
      "displayName": "Sharcaux Deside",
      "photoUrl": "https://lh3.googleusercontent.com/a-/AOh14Gj1bq5MeauwYy7CLOCU65muESJmYnjPgTFEins-XA=s64",
      "userId": "13175516189358306013"
     },
     "user_tz": -120
    },
    "id": "nZUpSY6emGkU"
   },
   "outputs": [],
   "source": [
    "F_pert_bis = F_pert.flatten()\n",
    "delta_y_bis = delta_y.flatten()\n",
    "y_mean_deltay_all = np.zeros(14)\n",
    "y_std_deltay_all = np.zeros(14)\n",
    "for k in range(len(x_f_pet)):\n",
    "  idx = np.where((F_pert_bis>=(x_f_pet[k]-0.05))& (F_pert_bis<=(x_f_pet[k]+0.05)))\n",
    "  y_mean_deltay_all[k] = np.nanmean(delta_y_bis[idx])\n",
    "  y_std_deltay_all[k] = np.nanstd(delta_y_bis[idx])/np.sqrt(len(delta_y_bis[idx]))"
   ]
  },
  {
   "cell_type": "code",
   "execution_count": 21,
   "metadata": {
    "colab": {
     "base_uri": "https://localhost:8080/",
     "height": 606
    },
    "executionInfo": {
     "elapsed": 810,
     "status": "ok",
     "timestamp": 1634648335949,
     "user": {
      "displayName": "Sharcaux Deside",
      "photoUrl": "https://lh3.googleusercontent.com/a-/AOh14Gj1bq5MeauwYy7CLOCU65muESJmYnjPgTFEins-XA=s64",
      "userId": "13175516189358306013"
     },
     "user_tz": -120
    },
    "id": "zZWgoF6wqRDL",
    "outputId": "276efe26-9787-4b47-b804-1ceb269cec5b"
   },
   "outputs": [
    {
     "data": {
      "image/png": "[encoded data removed]",
      "text/plain": [
       "<Figure size 1152x720 with 2 Axes>"
      ]
     },
     "metadata": {
      "needs_background": "light"
     },
     "output_type": "display_data"
    }
   ],
   "source": [
    "plt.figure(figsize=(16,10))\n",
    "#plt.title(\"Figure 1.D\")\n",
    "plt.subplot(121)\n",
    "plt.errorbar(x_f_pet,y_mean_deltay,yerr=y_std_deltay)\n",
    "plt.plot(x_f_pet,c_inverse*x_f_pet)\n",
    "#plt.ylim(-0.3,0.5,0.1)\n",
    "#plt.xlim(-0.4,0.4,0.05)\n",
    "plt.xlabel(\"F_pert[N]\")\n",
    "plt.ylabel(\"delta_y[cm]\")\n",
    "plt.subplot(122)\n",
    "plt.errorbar(x_f_pet,y_mean_deltay_all,yerr=y_std_deltay_all)\n",
    "plt.plot(x_f_pet,c_inverse*x_f_pet)\n",
    "##plt.ylim(-0.3,0.5,0.1)\n",
    "#plt.xlim(-0.4,0.4,0.05)\n",
    "plt.xlabel(\"F_pert[N]\")\n",
    "plt.ylabel(\"delta_y[cm]\")\n",
    "plt.show()"
   ]
  },
  {
   "cell_type": "markdown",
   "metadata": {
    "id": "YEyo_QZCqBKH"
   },
   "source": [
    "**Figure 2.B**"
   ]
  },
  {
   "cell_type": "code",
   "execution_count": null,
   "metadata": {
    "id": "1mhZ7uF-qRJx"
   },
   "outputs": [],
   "source": []
  },
  {
   "cell_type": "markdown",
   "metadata": {
    "id": "Wlduyc8zqRNA"
   },
   "source": [
    "**Figure 2.C**"
   ]
  },
  {
   "cell_type": "code",
   "execution_count": 22,
   "metadata": {},
   "outputs": [],
   "source": [
    "#calculate F_estimated\n",
    "F_estimated =  -(c*delta_y-F_pert-F_true)"
   ]
  },
  {
   "cell_type": "code",
   "execution_count": 26,
   "metadata": {
    "id": "lIery7ZYqRRO"
   },
   "outputs": [],
   "source": [
    "#calculate Delta_F\n",
    "delta_F = F_true-F_estimated\n",
    "#print(delta_F)"
   ]
  },
  {
   "cell_type": "code",
   "execution_count": 27,
   "metadata": {
    "id": "0dARkS30qRXU"
   },
   "outputs": [],
   "source": [
    "for subject in range(n_subjects):\n",
    "    Dict['Sujet ' + str(subject + 1)]['F_estimated'] = F_estimated[subject * n_days:(subject + 1) * n_days,:]\n",
    "    Dict['Sujet ' + str(subject + 1)]['Delta_F'] = delta_F[subject * n_days:(subject + 1) * n_days,:]"
   ]
  },
  {
   "cell_type": "code",
   "execution_count": 32,
   "metadata": {},
   "outputs": [
    {
     "data": {
      "text/plain": [
       "array([-3.66166458,  3.69458416,  3.94246539, ...,  1.89603926,\n",
       "        1.57468424,  1.09148619])"
      ]
     },
     "execution_count": 32,
     "metadata": {},
     "output_type": "execute_result"
    }
   ],
   "source": [
    "day_one = np.zeros((11,1400))\n",
    "for subject in range(n_subjects):\n",
    "    day_one[subject]=(Dict['Sujet ' + str(subject + 1)]['Delta_F'][0])\n",
    "day_one = day_one.flatten()\n",
    "day_one"
   ]
  },
  {
   "cell_type": "code",
   "execution_count": 33,
   "metadata": {
    "id": "x7qGIxPeqRbA"
   },
   "outputs": [
    {
     "data": {
      "image/png": "[encoded data removed]",
      "text/plain": [
       "<Figure size 1152x720 with 3 Axes>"
      ]
     },
     "metadata": {
      "needs_background": "light"
     },
     "output_type": "display_data"
    }
   ],
   "source": [
    "plt.figure(figsize=(16,10))\n",
    "#plt.title(\"Figure 2.D\")\n",
    "plt.subplot(131)\n",
    "plt.xlabel(\"F_true[N]\")\n",
    "plt.subplot(132)\n",
    "plt.xlabel(\"F_true[N]\")\n",
    "plt.subplot(133)\n",
    "plt.xlabel(\"F_true[N]\")\n",
    "plt.show()"
   ]
  },
  {
   "cell_type": "code",
   "execution_count": null,
   "metadata": {
    "id": "cj5Jf6UkqReo"
   },
   "outputs": [],
   "source": []
  },
  {
   "cell_type": "code",
   "execution_count": null,
   "metadata": {
    "id": "A_VLCqphqRhW"
   },
   "outputs": [],
   "source": []
  },
  {
   "cell_type": "code",
   "execution_count": null,
   "metadata": {
    "id": "eAbCKCKlqRkc"
   },
   "outputs": [],
   "source": []
  },
  {
   "cell_type": "code",
   "execution_count": null,
   "metadata": {
    "id": "bgHkHZlqqRnd"
   },
   "outputs": [],
   "source": []
  },
  {
   "cell_type": "code",
   "execution_count": null,
   "metadata": {
    "id": "FAEwHJPFqRqH"
   },
   "outputs": [],
   "source": []
  },
  {
   "cell_type": "code",
   "execution_count": null,
   "metadata": {
    "id": "gGHg4L3eqRsl"
   },
   "outputs": [],
   "source": []
  }
 ],
 "metadata": {
  "colab": {
   "name": "Copie de LGBIO2060_Projet_1.ipynb",
   "provenance": [
    {
     "file_id": "https://github.com/svandergoote/LGBIO2060-2021/blob/main/LGBIO2060_Projet_1.ipynb",
     "timestamp": 1634496184018
    }
   ]
  },
  "kernelspec": {
   "display_name": "Python 3 (ipykernel)",
   "language": "python",
   "name": "python3"
  },
  "language_info": {
   "codemirror_mode": {
    "name": "ipython",
    "version": 3
   },
   "file_extension": ".py",
   "mimetype": "text/x-python",
   "name": "python",
   "nbconvert_exporter": "python",
   "pygments_lexer": "ipython3",
   "version": "3.9.1"
  }
 },
 "nbformat": 4,
 "nbformat_minor": 1
}
